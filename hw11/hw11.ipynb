{
 "cells": [
  {
   "cell_type": "code",
   "execution_count": 12,
   "metadata": {},
   "outputs": [
    {
     "data": {
      "text/plain": [
       "[{'24h_volume_eur': '8574935153.4',\n",
       "  '24h_volume_usd': '10434600000.0',\n",
       "  'available_supply': '16999350.0',\n",
       "  'cached': False,\n",
       "  'id': 'bitcoin',\n",
       "  'last_updated': '1524714576',\n",
       "  'market_cap_eur': '123165754082',\n",
       "  'market_cap_usd': '149876979190',\n",
       "  'max_supply': '21000000.0',\n",
       "  'name': 'Bitcoin',\n",
       "  'percent_change_1h': '-0.55',\n",
       "  'percent_change_24h': '-7.91',\n",
       "  'percent_change_7d': '7.78',\n",
       "  'price_btc': '1.0',\n",
       "  'price_eur': '7245.32138477',\n",
       "  'price_usd': '8816.63',\n",
       "  'rank': '1',\n",
       "  'symbol': 'BTC',\n",
       "  'total_supply': '16999350.0'},\n",
       " {'24h_volume_eur': '3273942882.63',\n",
       "  '24h_volume_usd': '3983970000.0',\n",
       "  'available_supply': '99051557.0',\n",
       "  'cached': False,\n",
       "  'id': 'ethereum',\n",
       "  'last_updated': '1524714859',\n",
       "  'market_cap_eur': '50365559644.0',\n",
       "  'market_cap_usd': '61288448164.0',\n",
       "  'max_supply': None,\n",
       "  'name': 'Ethereum',\n",
       "  'percent_change_1h': '-0.56',\n",
       "  'percent_change_24h': '-8.49',\n",
       "  'percent_change_7d': '16.89',\n",
       "  'price_btc': '0.0703592',\n",
       "  'price_eur': '508.478221587',\n",
       "  'price_usd': '618.753',\n",
       "  'rank': '2',\n",
       "  'symbol': 'ETH',\n",
       "  'total_supply': '99051557.0'},\n",
       " {'24h_volume_eur': '1241362921.82',\n",
       "  '24h_volume_usd': '1510580000.0',\n",
       "  'available_supply': '39146203398.0',\n",
       "  'cached': False,\n",
       "  'id': 'ripple',\n",
       "  'last_updated': '1524714841',\n",
       "  'market_cap_eur': '25625280825.0',\n",
       "  'market_cap_usd': '31182691241.0',\n",
       "  'max_supply': '100000000000',\n",
       "  'name': 'Ripple',\n",
       "  'percent_change_1h': '-0.53',\n",
       "  'percent_change_24h': '-9.96',\n",
       "  'percent_change_7d': '10.61',\n",
       "  'price_btc': '0.00009058',\n",
       "  'price_eur': '0.654604498',\n",
       "  'price_usd': '0.79657',\n",
       "  'rank': '3',\n",
       "  'symbol': 'XRP',\n",
       "  'total_supply': '99992334929.0'}]"
      ]
     },
     "execution_count": 12,
     "metadata": {},
     "output_type": "execute_result"
    }
   ],
   "source": [
    "from coinmarketcap import Market\n",
    "coinmarketcap = Market()\n",
    "coinmarketcap.ticker(start=0, limit=3, convert='EUR')\n",
    "#coinmarketcap."
   ]
  },
  {
   "cell_type": "code",
   "execution_count": 17,
   "metadata": {},
   "outputs": [
    {
     "data": {
      "text/plain": [
       "{'active_assets': 702,\n",
       " 'active_currencies': 897,\n",
       " 'active_markets': 10539,\n",
       " 'bitcoin_percentage_of_market_cap': 38.42,\n",
       " 'cached': False,\n",
       " 'last_updated': 1524714875,\n",
       " 'total_24h_volume_usd': 35135997307.0,\n",
       " 'total_market_cap_usd': 390416030975.0}"
      ]
     },
     "execution_count": 17,
     "metadata": {},
     "output_type": "execute_result"
    }
   ],
   "source": [
    "coinmarketcap.stats()"
   ]
  },
  {
   "cell_type": "code",
   "execution_count": null,
   "metadata": {
    "collapsed": true
   },
   "outputs": [],
   "source": []
  }
 ],
 "metadata": {
  "kernelspec": {
   "display_name": "Python 3",
   "language": "python",
   "name": "python3"
  },
  "language_info": {
   "codemirror_mode": {
    "name": "ipython",
    "version": 3
   },
   "file_extension": ".py",
   "mimetype": "text/x-python",
   "name": "python",
   "nbconvert_exporter": "python",
   "pygments_lexer": "ipython3",
   "version": "3.6.3"
  }
 },
 "nbformat": 4,
 "nbformat_minor": 2
}
