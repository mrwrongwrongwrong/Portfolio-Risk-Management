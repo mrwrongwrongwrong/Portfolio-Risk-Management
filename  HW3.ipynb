{
 "cells": [
  {
   "cell_type": "markdown",
   "metadata": {},
   "source": [
    "# Problem 1"
   ]
  },
  {
   "cell_type": "code",
   "execution_count": 2,
   "metadata": {},
   "outputs": [
    {
     "name": "stdout",
     "output_type": "stream",
     "text": [
      "           Date    Return\n",
      "0    2008-02-04 -0.113518\n",
      "1    2008-02-05  0.049682\n",
      "2    2008-02-06 -1.025707\n",
      "3    2008-02-07 -0.662989\n",
      "4    2008-02-08  1.157783\n",
      "5    2008-02-11  0.042374\n",
      "6    2008-02-12 -0.038835\n",
      "7    2008-02-13  0.212249\n",
      "8    2008-02-14  0.813094\n",
      "9    2008-02-15  0.454965\n",
      "10   2008-02-19 -0.168081\n",
      "11   2008-02-20  0.953166\n",
      "12   2008-02-21 -0.341829\n",
      "13   2008-02-22  0.651897\n",
      "14   2008-02-25  0.729607\n",
      "15   2008-02-26 -0.152988\n",
      "16   2008-02-27  0.226342\n",
      "17   2008-02-28  0.182869\n",
      "18   2008-02-29  0.666407\n",
      "19   2008-03-03  0.421483\n",
      "20   2008-03-04  0.632516\n",
      "21   2008-03-05  0.715733\n",
      "22   2008-03-06 -0.377052\n",
      "23   2008-03-07  0.205741\n",
      "24   2008-03-10  0.048656\n",
      "25   2008-03-11 -0.119625\n",
      "26   2008-03-12 -0.026152\n",
      "27   2008-03-13  0.205965\n",
      "28   2008-03-14 -0.052406\n",
      "29   2008-03-17 -0.384041\n",
      "...         ...       ...\n",
      "2488 2017-12-19 -1.010723\n",
      "2489 2017-12-20 -1.549558\n",
      "2490 2017-12-21  0.220762\n",
      "2491 2017-12-22 -0.935147\n",
      "2492 2017-12-26  3.593755\n",
      "2493 2017-12-27 -1.318331\n",
      "2494 2017-12-28 -1.030056\n",
      "2495 2017-12-29 -2.069793\n",
      "2496 2018-01-02  0.631624\n",
      "2497 2018-01-03 -0.382019\n",
      "2498 2018-01-04 -0.239132\n",
      "2499 2018-01-05 -2.228383\n",
      "2500 2018-01-08 -0.976708\n",
      "2501 2018-01-09 -0.101185\n",
      "2502 2018-01-10  0.750017\n",
      "2503 2018-01-11  1.260881\n",
      "2504 2018-01-12  0.615774\n",
      "2505 2018-01-16 -0.831375\n",
      "2506 2018-01-17  0.295155\n",
      "2507 2018-01-18  0.281194\n",
      "2508 2018-01-19 -0.022194\n",
      "2509 2018-01-22 -0.879957\n",
      "2510 2018-01-23  1.022291\n",
      "2511 2018-01-24  0.927107\n",
      "2512 2018-01-25  0.511004\n",
      "2513 2018-01-26 -0.642116\n",
      "2514 2018-01-29  0.661398\n",
      "2515 2018-01-30 -0.805190\n",
      "2516 2018-01-31 -2.677407\n",
      "2517 2018-02-01 -1.260922\n",
      "\n",
      "[2518 rows x 2 columns]\n",
      "Iteration:     10,   Func. Count:     79,   Neg. LLF: 3363.5585904797426\n",
      "Optimization terminated successfully.    (Exit mode 0)\n",
      "            Current function value: 3363.507034997096\n",
      "            Iterations: 14\n",
      "            Function evaluations: 103\n",
      "            Gradient evaluations: 14\n",
      "                     Constant Mean - GARCH Model Results                      \n",
      "==============================================================================\n",
      "Dep. Variable:                   None   R-squared:                      -0.001\n",
      "Mean Model:             Constant Mean   Adj. R-squared:                 -0.001\n",
      "Vol Model:                      GARCH   Log-Likelihood:               -3363.51\n",
      "Distribution:                  Normal   AIC:                           6735.01\n",
      "Method:            Maximum Likelihood   BIC:                           6758.34\n",
      "                                        No. Observations:                 2518\n",
      "Date:                Wed, Feb 14 2018   Df Residuals:                     2514\n",
      "Time:                        22:47:56   Df Model:                            4\n",
      "                                Mean Model                                \n",
      "==========================================================================\n",
      "                 coef    std err          t      P>|t|    95.0% Conf. Int.\n",
      "--------------------------------------------------------------------------\n",
      "mu             0.0799  1.455e-02      5.493  3.946e-08 [5.139e-02,  0.108]\n",
      "                              Volatility Model                              \n",
      "============================================================================\n",
      "                 coef    std err          t      P>|t|      95.0% Conf. Int.\n",
      "----------------------------------------------------------------------------\n",
      "omega          0.0170  4.883e-03      3.483  4.963e-04 [7.436e-03,2.658e-02]\n",
      "alpha[1]       0.1263  1.698e-02      7.440  1.009e-13   [9.306e-02,  0.160]\n",
      "beta[1]        0.8642  1.698e-02     50.888      0.000     [  0.831,  0.897]\n",
      "============================================================================\n",
      "\n",
      "Covariance estimator: robust\n"
     ]
    }
   ],
   "source": [
    "\n",
    "import pandas as pd\n",
    "import pandas_datareader as pdr\n",
    "from datetime import datetime\n",
    "import statistics \n",
    "import numpy as np\n",
    "import matplotlib.pyplot as plt\n",
    "import scipy.stats\n",
    "import pylab\n",
    "bp = pdr.get_data_yahoo(symbols='SPY', start=datetime(2008, 2, 1), end=datetime(2018, 2, 1))\n",
    "\n",
    "bp.dropna(axis=0, how='all')\n",
    "Date = bp.index\n",
    "#print(bp)\n",
    "\n",
    "re = []\n",
    "f = 1\n",
    "mu = 0\n",
    "for i in range(len(Date)-1,0,-1):\n",
    "    #day1 = Date[i].date()\n",
    "    #day1 = Date[i-1].date()\n",
    "    p1 = bp.iloc[i-1]['Close']\n",
    "    p2 = bp.iloc[i]['Close']\n",
    "    re.append((p2-p1)/p1*100)\n",
    "Date = Date[1:]\n",
    "n = pd.Series(re)\n",
    "n.dropna()\n",
    "df = pd.DataFrame({'Date':Date,'Return':re})\n",
    "\n",
    "print(df)\n",
    "#print('standard deviation=',statistics.stdev(re))\n",
    "#print('average return=',np.average(re))\n",
    "\n",
    "from arch import arch_model\n",
    "garch1 = arch_model(n, p=1, q=1)\n",
    "res = garch1.fit(update_freq=10)\n",
    "print(res.summary())\n"
   ]
  },
  {
   "cell_type": "markdown",
   "metadata": {},
   "source": [
    "# Problem 2"
   ]
  },
  {
   "cell_type": "code",
   "execution_count": 3,
   "metadata": {},
   "outputs": [
    {
     "name": "stdout",
     "output_type": "stream",
     "text": [
      "                         Constant Mean - GARCH Model Results                         \n",
      "=====================================================================================\n",
      "Dep. Variable:                          None   R-squared:                          --\n",
      "Mean Model:                    Constant Mean   Adj. R-squared:                     --\n",
      "Vol Model:                             GARCH   Log-Likelihood:               -3770.93\n",
      "Distribution:                         Normal   AIC:                           7549.86\n",
      "Method:            User-specified Parameters   BIC:                           7573.18\n",
      "                                               No. Observations:                 2518\n",
      "Date:                       Wed, Feb 14 2018                                         \n",
      "Time:                               22:47:59                                         \n",
      "      Mean Model     \n",
      "=====================\n",
      "                 coef\n",
      "---------------------\n",
      "mu             0.0799\n",
      "   Volatility Model  \n",
      "=====================\n",
      "                 coef\n",
      "---------------------\n",
      "omega          0.0170\n",
      "alpha[1]       0.0200\n",
      "beta[1]        0.9800\n",
      "=====================\n",
      "\n",
      "Results generated with user-specified parameters.\n",
      "Since the model was not estimated, there are no std. errors.\n"
     ]
    }
   ],
   "source": [
    "#normal distribution\n",
    "fixed_res = garch1.fix([0.0799, 0.0170, 0.02,0.98])\n",
    "print(fixed_res.summary())"
   ]
  },
  {
   "cell_type": "code",
   "execution_count": 4,
   "metadata": {},
   "outputs": [
    {
     "data": {
      "text/plain": [
       "<matplotlib.axes._subplots.AxesSubplot at 0x10f07b240>"
      ]
     },
     "execution_count": 4,
     "metadata": {},
     "output_type": "execute_result"
    },
    {
     "data": {
      "image/png": "[encoded data removed]",
      "text/plain": [
       "<matplotlib.figure.Figure at 0x10eeb3a58>"
      ]
     },
     "metadata": {},
     "output_type": "display_data"
    }
   ],
   "source": [
    "import pandas as pd\n",
    "%matplotlib inline\n",
    "df = pd.concat([res.conditional_volatility,fixed_res.conditional_volatility],1)\n",
    "df.columns = ['Estimated', 'Fixed']\n",
    "df.plot()\n",
    "\n"
   ]
  },
  {
   "cell_type": "code",
   "execution_count": 15,
   "metadata": {},
   "outputs": [
    {
     "name": "stdout",
     "output_type": "stream",
     "text": [
      "Iteration:      5,   Func. Count:     55,   Neg. LLF: 3289.8117303062063\n",
      "Iteration:     10,   Func. Count:     97,   Neg. LLF: 3263.58003646495\n",
      "Iteration:     15,   Func. Count:    153,   Neg. LLF: 3263.5299335200507\n",
      "Positive directional derivative for linesearch    (Exit mode 8)\n",
      "            Current function value: 3263.529931094863\n",
      "            Iterations: 22\n",
      "            Function evaluations: 192\n",
      "            Gradient evaluations: 18\n",
      "                     Constant Mean - TARCH/ZARCH Model Results                      \n",
      "====================================================================================\n",
      "Dep. Variable:                         None   R-squared:                      -0.003\n",
      "Mean Model:                   Constant Mean   Adj. R-squared:                 -0.003\n",
      "Vol Model:                      TARCH/ZARCH   Log-Likelihood:               -3263.53\n",
      "Distribution:      Standardized Student's t   AIC:                           6539.06\n",
      "Method:                  Maximum Likelihood   BIC:                           6574.05\n",
      "                                              No. Observations:                 2518\n",
      "Date:                      Wed, Feb 14 2018   Df Residuals:                     2512\n",
      "Time:                              14:57:01   Df Model:                            6\n",
      "                                Mean Model                                \n",
      "==========================================================================\n",
      "                 coef    std err          t      P>|t|    95.0% Conf. Int.\n",
      "--------------------------------------------------------------------------\n",
      "mu             0.1106  3.091e-02      3.579  3.454e-04 [5.004e-02,  0.171]\n",
      "                              Volatility Model                             \n",
      "===========================================================================\n",
      "                 coef    std err          t      P>|t|     95.0% Conf. Int.\n",
      "---------------------------------------------------------------------------\n",
      "omega          0.0235      0.372  6.304e-02      0.950    [ -0.706,  0.753]\n",
      "alpha[1]       0.1799      0.549      0.328      0.743    [ -0.896,  1.256]\n",
      "gamma[1]      -0.1607  7.307e-02     -2.199  2.788e-02 [ -0.304,-1.747e-02]\n",
      "beta[1]        0.9005      0.907      0.993      0.321    [ -0.877,  2.678]\n",
      "                              Distribution                              \n",
      "========================================================================\n",
      "                 coef    std err          t      P>|t|  95.0% Conf. Int.\n",
      "------------------------------------------------------------------------\n",
      "nu             7.0057      6.770      1.035      0.301 [ -6.262, 20.274]\n",
      "========================================================================\n",
      "\n",
      "Covariance estimator: robust\n",
      "\n",
      "WARNING: The optimizer did not indicate successful convergence. The message was\n",
      "Positive directional derivative for linesearch. See convergence_flag.\n"
     ]
    },
    {
     "name": "stderr",
     "output_type": "stream",
     "text": [
      "/Users/zhousq/anaconda3/lib/python3.6/site-packages/arch/univariate/base.py:524: ConvergenceWarning: \n",
      "The optimizer returned code 8. The message is:\n",
      "Positive directional derivative for linesearch\n",
      "See scipy.optimize.fmin_slsqp for code meaning.\n",
      "\n",
      "  ConvergenceWarning)\n"
     ]
    }
   ],
   "source": [
    "# Student T with my alpha\n",
    "tgm = arch_model(n, p=1, o=1, q=1, power=1.0, dist='StudentsT')\n",
    "tres = tgm.fit(update_freq=5)\n",
    "print(tres.summary())"
   ]
  },
  {
   "cell_type": "code",
   "execution_count": 16,
   "metadata": {},
   "outputs": [
    {
     "name": "stdout",
     "output_type": "stream",
     "text": [
      "                      Constant Mean - TARCH/ZARCH Model Results                      \n",
      "=====================================================================================\n",
      "Dep. Variable:                          None   R-squared:                          --\n",
      "Mean Model:                    Constant Mean   Adj. R-squared:                     --\n",
      "Vol Model:                       TARCH/ZARCH   Log-Likelihood:               -5758.80\n",
      "Distribution:       Standardized Student's t   AIC:                           11529.6\n",
      "Method:            User-specified Parameters   BIC:                           11564.6\n",
      "                                               No. Observations:                 2518\n",
      "Date:                       Wed, Feb 14 2018                                         \n",
      "Time:                               14:57:04                                         \n",
      "      Mean Model     \n",
      "=====================\n",
      "                 coef\n",
      "---------------------\n",
      "mu             0.1106\n",
      "   Volatility Model  \n",
      "=====================\n",
      "                 coef\n",
      "---------------------\n",
      "omega          0.0235\n",
      "alpha[1]       0.1799\n",
      "gamma[1]      -0.1607\n",
      "beta[1]        0.9800\n",
      "     Distribution    \n",
      "=====================\n",
      "                 coef\n",
      "---------------------\n",
      "nu             7.0057\n",
      "=====================\n",
      "\n",
      "Results generated with user-specified parameters.\n",
      "Since the model was not estimated, there are no std. errors.\n"
     ]
    }
   ],
   "source": [
    "tfixed_res = tgm.fix([0.1106,0.0235,0.1799,-0.1607,0.98,7.0057])\n",
    "print(tfixed_res.summary())"
   ]
  },
  {
   "cell_type": "code",
   "execution_count": 17,
   "metadata": {},
   "outputs": [
    {
     "data": {
      "text/plain": [
       "<matplotlib.axes._subplots.AxesSubplot at 0x1a2034ea90>"
      ]
     },
     "execution_count": 17,
     "metadata": {},
     "output_type": "execute_result"
    },
    {
     "data": {
      "image/png": "[encoded data removed]",
      "text/plain": [
       "<matplotlib.figure.Figure at 0x1a20373860>"
      ]
     },
     "metadata": {},
     "output_type": "display_data"
    }
   ],
   "source": [
    "import pandas as pd\n",
    "%matplotlib inline\n",
    "df = pd.concat([tres.conditional_volatility,tfixed_res.conditional_volatility],1)\n",
    "\n",
    "df.columns = ['Estimated', 'Fixed']\n",
    "df.plot()"
   ]
  },
  {
   "cell_type": "code",
   "execution_count": null,
   "metadata": {
    "collapsed": true
   },
   "outputs": [],
   "source": []
  }
 ],
 "metadata": {
  "kernelspec": {
   "display_name": "Python 3",
   "language": "python",
   "name": "python3"
  },
  "language_info": {
   "codemirror_mode": {
    "name": "ipython",
    "version": 3
   },
   "file_extension": ".py",
   "mimetype": "text/x-python",
   "name": "python",
   "nbconvert_exporter": "python",
   "pygments_lexer": "ipython3",
   "version": "3.6.3"
  }
 },
 "nbformat": 4,
 "nbformat_minor": 2
}
